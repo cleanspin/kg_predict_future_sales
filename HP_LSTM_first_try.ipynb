{
 "cells": [
  {
   "cell_type": "markdown",
   "id": "42cb475a",
   "metadata": {},
   "source": [
    "# Load libraries"
   ]
  },
  {
   "cell_type": "code",
   "execution_count": 1,
   "id": "1ef17300",
   "metadata": {},
   "outputs": [],
   "source": [
    "import os\n",
    "import pandas as pd\n",
    "import numpy as np\n",
    "from tensorflow.keras.models import Sequential \n",
    "from tensorflow.keras.layers import LSTM\n",
    "from tensorflow.keras.layers import Dense"
   ]
  },
  {
   "cell_type": "markdown",
   "id": "aff13858",
   "metadata": {},
   "source": [
    "# Load CSV Files"
   ]
  },
  {
   "cell_type": "code",
   "execution_count": 2,
   "id": "95e0d0a7",
   "metadata": {},
   "outputs": [
    {
     "data": {
      "text/plain": [
       "['.git',\n",
       " '.gitignore',\n",
       " '.ipynb_checkpoints',\n",
       " 'HP_LSTM_first_try.ipynb',\n",
       " 'raw_data',\n",
       " 'README.md']"
      ]
     },
     "execution_count": 2,
     "metadata": {},
     "output_type": "execute_result"
    }
   ],
   "source": [
    "os.listdir() # Files in working directory"
   ]
  },
  {
   "cell_type": "code",
   "execution_count": 3,
   "id": "04727a1d",
   "metadata": {},
   "outputs": [
    {
     "data": {
      "text/plain": [
       "['items.csv',\n",
       " 'item_categories.csv',\n",
       " 'sales_train.csv',\n",
       " 'sample_submission.csv',\n",
       " 'shops.csv',\n",
       " 'test.csv']"
      ]
     },
     "execution_count": 3,
     "metadata": {},
     "output_type": "execute_result"
    }
   ],
   "source": [
    "os.listdir(\"raw_data\")"
   ]
  },
  {
   "cell_type": "code",
   "execution_count": 4,
   "id": "7c276abc",
   "metadata": {},
   "outputs": [],
   "source": [
    "items = pd.read_csv(\"raw_data/items.csv\")\n",
    "item_categories = pd.read_csv(\"raw_data/item_categories.csv\")\n",
    "sales = pd.read_csv(\"raw_data/sales_train.csv\")\n",
    "shops = pd.read_csv(\"raw_data/shops.csv\")\n",
    "test = pd.read_csv(\"raw_data/test.csv\")\n",
    "sample_submission = pd.read_csv(\"raw_data/sample_submission.csv\")"
   ]
  },
  {
   "cell_type": "markdown",
   "id": "1ba846e4",
   "metadata": {},
   "source": [
    "# Preparing the dataset"
   ]
  },
  {
   "cell_type": "markdown",
   "id": "ad00a3f6",
   "metadata": {},
   "source": [
    "## Define months, years and month-year from the date field"
   ]
  },
  {
   "cell_type": "code",
   "execution_count": 5,
   "id": "43ee90a3",
   "metadata": {},
   "outputs": [],
   "source": [
    "sales[\"date\"] = sales[\"date\"].apply(lambda x: x.replace(\".\", \"-\"))\n",
    "sales[\"date\"] = pd.to_datetime(sales[\"date\"], dayfirst=True)\n",
    "sales['year'] = pd.DatetimeIndex(sales['date']).year\n",
    "sales['month'] = pd.DatetimeIndex(sales['date']).month\n",
    "sales['month_year'] = sales[\"date\"].dt.to_period('M')"
   ]
  },
  {
   "cell_type": "markdown",
   "id": "87c88bc9",
   "metadata": {},
   "source": [
    "## Grouping the sales by month "
   ]
  },
  {
   "cell_type": "code",
   "execution_count": 6,
   "id": "d58c87d5",
   "metadata": {},
   "outputs": [
    {
     "data": {
      "text/html": [
       "<div>\n",
       "<style scoped>\n",
       "    .dataframe tbody tr th:only-of-type {\n",
       "        vertical-align: middle;\n",
       "    }\n",
       "\n",
       "    .dataframe tbody tr th {\n",
       "        vertical-align: top;\n",
       "    }\n",
       "\n",
       "    .dataframe thead th {\n",
       "        text-align: right;\n",
       "    }\n",
       "</style>\n",
       "<table border=\"1\" class=\"dataframe\">\n",
       "  <thead>\n",
       "    <tr style=\"text-align: right;\">\n",
       "      <th></th>\n",
       "      <th>shop_id</th>\n",
       "      <th>item_id</th>\n",
       "      <th>year</th>\n",
       "      <th>month</th>\n",
       "      <th>month_year</th>\n",
       "      <th>mean_item_price</th>\n",
       "      <th>sd_item_price</th>\n",
       "      <th>item_cnt_month</th>\n",
       "    </tr>\n",
       "  </thead>\n",
       "  <tbody>\n",
       "    <tr>\n",
       "      <th>0</th>\n",
       "      <td>0</td>\n",
       "      <td>30</td>\n",
       "      <td>2013</td>\n",
       "      <td>2</td>\n",
       "      <td>2013-02</td>\n",
       "      <td>265.0</td>\n",
       "      <td>0.0</td>\n",
       "      <td>31.0</td>\n",
       "    </tr>\n",
       "    <tr>\n",
       "      <th>1</th>\n",
       "      <td>0</td>\n",
       "      <td>31</td>\n",
       "      <td>2013</td>\n",
       "      <td>2</td>\n",
       "      <td>2013-02</td>\n",
       "      <td>434.0</td>\n",
       "      <td>0.0</td>\n",
       "      <td>11.0</td>\n",
       "    </tr>\n",
       "    <tr>\n",
       "      <th>2</th>\n",
       "      <td>0</td>\n",
       "      <td>32</td>\n",
       "      <td>2013</td>\n",
       "      <td>1</td>\n",
       "      <td>2013-01</td>\n",
       "      <td>221.0</td>\n",
       "      <td>0.0</td>\n",
       "      <td>6.0</td>\n",
       "    </tr>\n",
       "    <tr>\n",
       "      <th>3</th>\n",
       "      <td>0</td>\n",
       "      <td>32</td>\n",
       "      <td>2013</td>\n",
       "      <td>2</td>\n",
       "      <td>2013-02</td>\n",
       "      <td>221.0</td>\n",
       "      <td>0.0</td>\n",
       "      <td>10.0</td>\n",
       "    </tr>\n",
       "    <tr>\n",
       "      <th>4</th>\n",
       "      <td>0</td>\n",
       "      <td>33</td>\n",
       "      <td>2013</td>\n",
       "      <td>1</td>\n",
       "      <td>2013-01</td>\n",
       "      <td>347.0</td>\n",
       "      <td>0.0</td>\n",
       "      <td>3.0</td>\n",
       "    </tr>\n",
       "    <tr>\n",
       "      <th>...</th>\n",
       "      <td>...</td>\n",
       "      <td>...</td>\n",
       "      <td>...</td>\n",
       "      <td>...</td>\n",
       "      <td>...</td>\n",
       "      <td>...</td>\n",
       "      <td>...</td>\n",
       "      <td>...</td>\n",
       "    </tr>\n",
       "    <tr>\n",
       "      <th>1609119</th>\n",
       "      <td>59</td>\n",
       "      <td>22164</td>\n",
       "      <td>2015</td>\n",
       "      <td>4</td>\n",
       "      <td>2015-04</td>\n",
       "      <td>699.0</td>\n",
       "      <td>0.0</td>\n",
       "      <td>2.0</td>\n",
       "    </tr>\n",
       "    <tr>\n",
       "      <th>1609120</th>\n",
       "      <td>59</td>\n",
       "      <td>22164</td>\n",
       "      <td>2015</td>\n",
       "      <td>7</td>\n",
       "      <td>2015-07</td>\n",
       "      <td>699.0</td>\n",
       "      <td>NaN</td>\n",
       "      <td>1.0</td>\n",
       "    </tr>\n",
       "    <tr>\n",
       "      <th>1609121</th>\n",
       "      <td>59</td>\n",
       "      <td>22167</td>\n",
       "      <td>2013</td>\n",
       "      <td>10</td>\n",
       "      <td>2013-10</td>\n",
       "      <td>299.0</td>\n",
       "      <td>NaN</td>\n",
       "      <td>1.0</td>\n",
       "    </tr>\n",
       "    <tr>\n",
       "      <th>1609122</th>\n",
       "      <td>59</td>\n",
       "      <td>22167</td>\n",
       "      <td>2013</td>\n",
       "      <td>12</td>\n",
       "      <td>2013-12</td>\n",
       "      <td>299.0</td>\n",
       "      <td>0.0</td>\n",
       "      <td>2.0</td>\n",
       "    </tr>\n",
       "    <tr>\n",
       "      <th>1609123</th>\n",
       "      <td>59</td>\n",
       "      <td>22167</td>\n",
       "      <td>2014</td>\n",
       "      <td>6</td>\n",
       "      <td>2014-06</td>\n",
       "      <td>299.0</td>\n",
       "      <td>NaN</td>\n",
       "      <td>1.0</td>\n",
       "    </tr>\n",
       "  </tbody>\n",
       "</table>\n",
       "<p>1609124 rows × 8 columns</p>\n",
       "</div>"
      ],
      "text/plain": [
       "         shop_id  item_id  year  month month_year  mean_item_price  \\\n",
       "0              0       30  2013      2    2013-02            265.0   \n",
       "1              0       31  2013      2    2013-02            434.0   \n",
       "2              0       32  2013      1    2013-01            221.0   \n",
       "3              0       32  2013      2    2013-02            221.0   \n",
       "4              0       33  2013      1    2013-01            347.0   \n",
       "...          ...      ...   ...    ...        ...              ...   \n",
       "1609119       59    22164  2015      4    2015-04            699.0   \n",
       "1609120       59    22164  2015      7    2015-07            699.0   \n",
       "1609121       59    22167  2013     10    2013-10            299.0   \n",
       "1609122       59    22167  2013     12    2013-12            299.0   \n",
       "1609123       59    22167  2014      6    2014-06            299.0   \n",
       "\n",
       "         sd_item_price  item_cnt_month  \n",
       "0                  0.0            31.0  \n",
       "1                  0.0            11.0  \n",
       "2                  0.0             6.0  \n",
       "3                  0.0            10.0  \n",
       "4                  0.0             3.0  \n",
       "...                ...             ...  \n",
       "1609119            0.0             2.0  \n",
       "1609120            NaN             1.0  \n",
       "1609121            NaN             1.0  \n",
       "1609122            0.0             2.0  \n",
       "1609123            NaN             1.0  \n",
       "\n",
       "[1609124 rows x 8 columns]"
      ]
     },
     "execution_count": 6,
     "metadata": {},
     "output_type": "execute_result"
    }
   ],
   "source": [
    "sales = sales.groupby([\"shop_id\", \"item_id\", \"year\", \"month\", \"month_year\"]).agg(\n",
    "    mean_item_price = pd.NamedAgg(column=\"item_price\", aggfunc=np.mean),\n",
    "    sd_item_price = pd.NamedAgg(column=\"item_price\", aggfunc=np.std),\n",
    "    item_cnt_month = pd.NamedAgg(column=\"item_cnt_day\", aggfunc=np.sum)).reset_index()\n",
    "sales"
   ]
  },
  {
   "cell_type": "markdown",
   "id": "05ae4571",
   "metadata": {},
   "source": [
    "## Select shops and items with entries for each possible month in the dataset "
   ]
  },
  {
   "cell_type": "code",
   "execution_count": 7,
   "id": "f9d3d879",
   "metadata": {},
   "outputs": [
    {
     "data": {
      "text/html": [
       "<div>\n",
       "<style scoped>\n",
       "    .dataframe tbody tr th:only-of-type {\n",
       "        vertical-align: middle;\n",
       "    }\n",
       "\n",
       "    .dataframe tbody tr th {\n",
       "        vertical-align: top;\n",
       "    }\n",
       "\n",
       "    .dataframe thead th {\n",
       "        text-align: right;\n",
       "    }\n",
       "</style>\n",
       "<table border=\"1\" class=\"dataframe\">\n",
       "  <thead>\n",
       "    <tr style=\"text-align: right;\">\n",
       "      <th></th>\n",
       "      <th>shop_id</th>\n",
       "      <th>item_id</th>\n",
       "      <th>item_cnt_month</th>\n",
       "    </tr>\n",
       "  </thead>\n",
       "  <tbody>\n",
       "    <tr>\n",
       "      <th>0</th>\n",
       "      <td>52</td>\n",
       "      <td>1905</td>\n",
       "      <td>34</td>\n",
       "    </tr>\n",
       "    <tr>\n",
       "      <th>1</th>\n",
       "      <td>38</td>\n",
       "      <td>3076</td>\n",
       "      <td>34</td>\n",
       "    </tr>\n",
       "    <tr>\n",
       "      <th>2</th>\n",
       "      <td>52</td>\n",
       "      <td>5822</td>\n",
       "      <td>34</td>\n",
       "    </tr>\n",
       "    <tr>\n",
       "      <th>3</th>\n",
       "      <td>26</td>\n",
       "      <td>5822</td>\n",
       "      <td>34</td>\n",
       "    </tr>\n",
       "    <tr>\n",
       "      <th>4</th>\n",
       "      <td>31</td>\n",
       "      <td>32</td>\n",
       "      <td>34</td>\n",
       "    </tr>\n",
       "    <tr>\n",
       "      <th>...</th>\n",
       "      <td>...</td>\n",
       "      <td>...</td>\n",
       "      <td>...</td>\n",
       "    </tr>\n",
       "    <tr>\n",
       "      <th>424119</th>\n",
       "      <td>42</td>\n",
       "      <td>11768</td>\n",
       "      <td>1</td>\n",
       "    </tr>\n",
       "    <tr>\n",
       "      <th>424120</th>\n",
       "      <td>42</td>\n",
       "      <td>11769</td>\n",
       "      <td>1</td>\n",
       "    </tr>\n",
       "    <tr>\n",
       "      <th>424121</th>\n",
       "      <td>42</td>\n",
       "      <td>11770</td>\n",
       "      <td>1</td>\n",
       "    </tr>\n",
       "    <tr>\n",
       "      <th>424122</th>\n",
       "      <td>42</td>\n",
       "      <td>11771</td>\n",
       "      <td>1</td>\n",
       "    </tr>\n",
       "    <tr>\n",
       "      <th>424123</th>\n",
       "      <td>0</td>\n",
       "      <td>30</td>\n",
       "      <td>1</td>\n",
       "    </tr>\n",
       "  </tbody>\n",
       "</table>\n",
       "<p>424124 rows × 3 columns</p>\n",
       "</div>"
      ],
      "text/plain": [
       "        shop_id  item_id  item_cnt_month\n",
       "0            52     1905              34\n",
       "1            38     3076              34\n",
       "2            52     5822              34\n",
       "3            26     5822              34\n",
       "4            31       32              34\n",
       "...         ...      ...             ...\n",
       "424119       42    11768               1\n",
       "424120       42    11769               1\n",
       "424121       42    11770               1\n",
       "424122       42    11771               1\n",
       "424123        0       30               1\n",
       "\n",
       "[424124 rows x 3 columns]"
      ]
     },
     "execution_count": 7,
     "metadata": {},
     "output_type": "execute_result"
    }
   ],
   "source": [
    "count_entries = sales.groupby([\"shop_id\", \"item_id\"]).count().sort_values(\"item_cnt_month\", ascending=False)[\"item_cnt_month\"].reset_index()\n",
    "count_entries"
   ]
  },
  {
   "cell_type": "code",
   "execution_count": 8,
   "id": "2e298776",
   "metadata": {},
   "outputs": [
    {
     "data": {
      "text/html": [
       "<div>\n",
       "<style scoped>\n",
       "    .dataframe tbody tr th:only-of-type {\n",
       "        vertical-align: middle;\n",
       "    }\n",
       "\n",
       "    .dataframe tbody tr th {\n",
       "        vertical-align: top;\n",
       "    }\n",
       "\n",
       "    .dataframe thead th {\n",
       "        text-align: right;\n",
       "    }\n",
       "</style>\n",
       "<table border=\"1\" class=\"dataframe\">\n",
       "  <thead>\n",
       "    <tr style=\"text-align: right;\">\n",
       "      <th></th>\n",
       "      <th>shop_id</th>\n",
       "      <th>item_id</th>\n",
       "      <th>year</th>\n",
       "      <th>month</th>\n",
       "      <th>month_year</th>\n",
       "      <th>mean_item_price</th>\n",
       "      <th>sd_item_price</th>\n",
       "      <th>item_cnt_month</th>\n",
       "    </tr>\n",
       "  </thead>\n",
       "  <tbody>\n",
       "    <tr>\n",
       "      <th>0</th>\n",
       "      <td>52</td>\n",
       "      <td>1905</td>\n",
       "      <td>2013</td>\n",
       "      <td>1</td>\n",
       "      <td>2013-01</td>\n",
       "      <td>249.0</td>\n",
       "      <td>0.000000</td>\n",
       "      <td>8.0</td>\n",
       "    </tr>\n",
       "    <tr>\n",
       "      <th>1</th>\n",
       "      <td>52</td>\n",
       "      <td>1905</td>\n",
       "      <td>2013</td>\n",
       "      <td>2</td>\n",
       "      <td>2013-02</td>\n",
       "      <td>249.0</td>\n",
       "      <td>0.000000</td>\n",
       "      <td>4.0</td>\n",
       "    </tr>\n",
       "    <tr>\n",
       "      <th>2</th>\n",
       "      <td>52</td>\n",
       "      <td>1905</td>\n",
       "      <td>2013</td>\n",
       "      <td>3</td>\n",
       "      <td>2013-03</td>\n",
       "      <td>249.0</td>\n",
       "      <td>0.000000</td>\n",
       "      <td>2.0</td>\n",
       "    </tr>\n",
       "    <tr>\n",
       "      <th>3</th>\n",
       "      <td>52</td>\n",
       "      <td>1905</td>\n",
       "      <td>2013</td>\n",
       "      <td>4</td>\n",
       "      <td>2013-04</td>\n",
       "      <td>249.0</td>\n",
       "      <td>0.000000</td>\n",
       "      <td>10.0</td>\n",
       "    </tr>\n",
       "    <tr>\n",
       "      <th>4</th>\n",
       "      <td>52</td>\n",
       "      <td>1905</td>\n",
       "      <td>2013</td>\n",
       "      <td>5</td>\n",
       "      <td>2013-05</td>\n",
       "      <td>249.0</td>\n",
       "      <td>0.000000</td>\n",
       "      <td>7.0</td>\n",
       "    </tr>\n",
       "    <tr>\n",
       "      <th>...</th>\n",
       "      <td>...</td>\n",
       "      <td>...</td>\n",
       "      <td>...</td>\n",
       "      <td>...</td>\n",
       "      <td>...</td>\n",
       "      <td>...</td>\n",
       "      <td>...</td>\n",
       "      <td>...</td>\n",
       "    </tr>\n",
       "    <tr>\n",
       "      <th>3463</th>\n",
       "      <td>28</td>\n",
       "      <td>13881</td>\n",
       "      <td>2015</td>\n",
       "      <td>6</td>\n",
       "      <td>2015-06</td>\n",
       "      <td>599.0</td>\n",
       "      <td>NaN</td>\n",
       "      <td>1.0</td>\n",
       "    </tr>\n",
       "    <tr>\n",
       "      <th>3464</th>\n",
       "      <td>28</td>\n",
       "      <td>13881</td>\n",
       "      <td>2015</td>\n",
       "      <td>7</td>\n",
       "      <td>2015-07</td>\n",
       "      <td>599.0</td>\n",
       "      <td>0.000000</td>\n",
       "      <td>3.0</td>\n",
       "    </tr>\n",
       "    <tr>\n",
       "      <th>3465</th>\n",
       "      <td>28</td>\n",
       "      <td>13881</td>\n",
       "      <td>2015</td>\n",
       "      <td>8</td>\n",
       "      <td>2015-08</td>\n",
       "      <td>649.0</td>\n",
       "      <td>24.494897</td>\n",
       "      <td>6.0</td>\n",
       "    </tr>\n",
       "    <tr>\n",
       "      <th>3466</th>\n",
       "      <td>28</td>\n",
       "      <td>13881</td>\n",
       "      <td>2015</td>\n",
       "      <td>9</td>\n",
       "      <td>2015-09</td>\n",
       "      <td>659.0</td>\n",
       "      <td>0.000000</td>\n",
       "      <td>3.0</td>\n",
       "    </tr>\n",
       "    <tr>\n",
       "      <th>3467</th>\n",
       "      <td>28</td>\n",
       "      <td>13881</td>\n",
       "      <td>2015</td>\n",
       "      <td>10</td>\n",
       "      <td>2015-10</td>\n",
       "      <td>659.0</td>\n",
       "      <td>0.000000</td>\n",
       "      <td>4.0</td>\n",
       "    </tr>\n",
       "  </tbody>\n",
       "</table>\n",
       "<p>3468 rows × 8 columns</p>\n",
       "</div>"
      ],
      "text/plain": [
       "      shop_id  item_id  year  month month_year  mean_item_price  \\\n",
       "0          52     1905  2013      1    2013-01            249.0   \n",
       "1          52     1905  2013      2    2013-02            249.0   \n",
       "2          52     1905  2013      3    2013-03            249.0   \n",
       "3          52     1905  2013      4    2013-04            249.0   \n",
       "4          52     1905  2013      5    2013-05            249.0   \n",
       "...       ...      ...   ...    ...        ...              ...   \n",
       "3463       28    13881  2015      6    2015-06            599.0   \n",
       "3464       28    13881  2015      7    2015-07            599.0   \n",
       "3465       28    13881  2015      8    2015-08            649.0   \n",
       "3466       28    13881  2015      9    2015-09            659.0   \n",
       "3467       28    13881  2015     10    2015-10            659.0   \n",
       "\n",
       "      sd_item_price  item_cnt_month  \n",
       "0          0.000000             8.0  \n",
       "1          0.000000             4.0  \n",
       "2          0.000000             2.0  \n",
       "3          0.000000            10.0  \n",
       "4          0.000000             7.0  \n",
       "...             ...             ...  \n",
       "3463            NaN             1.0  \n",
       "3464       0.000000             3.0  \n",
       "3465      24.494897             6.0  \n",
       "3466       0.000000             3.0  \n",
       "3467       0.000000             4.0  \n",
       "\n",
       "[3468 rows x 8 columns]"
      ]
     },
     "execution_count": 8,
     "metadata": {},
     "output_type": "execute_result"
    }
   ],
   "source": [
    "full_entries = count_entries[[\"shop_id\",\"item_id\"]][count_entries[\"item_cnt_month\"]==34]\n",
    "full_entries = full_entries.merge(sales, on= [\"shop_id\", \"item_id\"], how=\"left\")\n",
    "full_entries"
   ]
  },
  {
   "cell_type": "code",
   "execution_count": null,
   "id": "c755f85b",
   "metadata": {},
   "outputs": [],
   "source": []
  },
  {
   "cell_type": "markdown",
   "id": "aa2bdb5b",
   "metadata": {},
   "source": [
    "## Defining a LSTM model for each shop-item pair\n",
    "\n",
    "For each shop-item pair with entries for every month, a dictionary stores the sequence corresponding to that shop-item pair, storing also a model of stacked LSTMs (50 units) taking a sequence of 3 time steps"
   ]
  },
  {
   "cell_type": "markdown",
   "id": "465a84a9",
   "metadata": {},
   "source": [
    "### Defining a function that splits the initial sequence in 3 timesteps\n",
    "Retrieves an X array of sequences of 3 timesteps and an Y array of the corresponding output for each 3 step sequence"
   ]
  },
  {
   "cell_type": "code",
   "execution_count": 9,
   "id": "5b31e580",
   "metadata": {},
   "outputs": [],
   "source": [
    "def split_sequence(sequence, n_steps):\n",
    "    X, y = list(), list()\n",
    "    for i in range(len(sequence)):\n",
    "        # find the end of this pattern\n",
    "        end_ix = i + n_steps\n",
    "        # check if we are beyond the sequence\n",
    "        if end_ix > len(sequence)-1:\n",
    "            break\n",
    "        # gather input and output parts of the pattern\n",
    "        seq_x, seq_y = sequence[i:end_ix], sequence[end_ix]\n",
    "        X.append(seq_x)\n",
    "        y.append(seq_y)\n",
    "    return np.array(X), np.array(y)"
   ]
  },
  {
   "cell_type": "markdown",
   "id": "fdbf0f52",
   "metadata": {},
   "source": [
    "### Training the LSTMs for each shop-item pair\n",
    "The last item of each sequence is excluded on the training, once these are the values to be predicted"
   ]
  },
  {
   "cell_type": "code",
   "execution_count": 10,
   "id": "765eac17",
   "metadata": {},
   "outputs": [],
   "source": [
    "full_entries_shops = np.unique(full_entries[\"shop_id\"])"
   ]
  },
  {
   "cell_type": "code",
   "execution_count": 11,
   "id": "4b07d20a",
   "metadata": {},
   "outputs": [],
   "source": [
    "models={}\n",
    "n_steps = 3\n",
    "n_features = 1\n",
    "for shop in full_entries_shops:\n",
    "    models[shop]={}\n",
    "    items = np.unique(full_entries[\"item_id\"][full_entries[\"shop_id\"]==shop])\n",
    "    for item in items:\n",
    "        models[shop][item]={}\n",
    "        seq = full_entries[\"item_cnt_month\"][(full_entries[\"shop_id\"]==shop) & (full_entries[\"item_id\"]==item)].values\n",
    "        models[shop][item][\"sequence\"]=seq\n",
    "        X, y = split_sequence(seq[:-1], n_steps)\n",
    "        X = X.reshape((X.shape[0], X.shape[1], n_features))\n",
    "        model = Sequential()\n",
    "        model.add(LSTM(50, activation='relu', return_sequences=True, input_shape=(n_steps, n_features)))\n",
    "        model.add(LSTM(50, activation='relu'))\n",
    "        model.add(Dense(1))\n",
    "        model.compile(optimizer='adam', loss='mse')\n",
    "        model.fit(X, y, epochs=200, verbose=0)\n",
    "        models[shop][item][\"model\"]= model\n",
    "        "
   ]
  },
  {
   "cell_type": "markdown",
   "id": "d495f25a",
   "metadata": {},
   "source": [
    "# Evaluating the models\n",
    "Takes the last entrie of a sequence as the real value to predict. Takes the the last 3 timesteps of each sequence as the input of the LSTM model used in prediction"
   ]
  },
  {
   "cell_type": "code",
   "execution_count": 12,
   "id": "51c4d76f",
   "metadata": {},
   "outputs": [
    {
     "name": "stdout",
     "output_type": "stream",
     "text": [
      "WARNING:tensorflow:5 out of the last 5 calls to <function Model.make_predict_function.<locals>.predict_function at 0x000001F40B09C5E0> triggered tf.function retracing. Tracing is expensive and the excessive number of tracings could be due to (1) creating @tf.function repeatedly in a loop, (2) passing tensors with different shapes, (3) passing Python objects instead of tensors. For (1), please define your @tf.function outside of the loop. For (2), @tf.function has experimental_relax_shapes=True option that relaxes argument shapes that can avoid unnecessary retracing. For (3), please refer to https://www.tensorflow.org/guide/function#controlling_retracing and https://www.tensorflow.org/api_docs/python/tf/function for  more details.\n",
      "WARNING:tensorflow:6 out of the last 6 calls to <function Model.make_predict_function.<locals>.predict_function at 0x000001F40C1211F0> triggered tf.function retracing. Tracing is expensive and the excessive number of tracings could be due to (1) creating @tf.function repeatedly in a loop, (2) passing tensors with different shapes, (3) passing Python objects instead of tensors. For (1), please define your @tf.function outside of the loop. For (2), @tf.function has experimental_relax_shapes=True option that relaxes argument shapes that can avoid unnecessary retracing. For (3), please refer to https://www.tensorflow.org/guide/function#controlling_retracing and https://www.tensorflow.org/api_docs/python/tf/function for  more details.\n"
     ]
    }
   ],
   "source": [
    "real=[]\n",
    "pred=[]\n",
    "for shop in models.keys():\n",
    "    for item in models[shop].keys():\n",
    "        real.append(models[shop][item][\"sequence\"][-1])\n",
    "        pred.append(models[shop][item][\"model\"].predict(models[shop][item][\"sequence\"][-n_steps:].reshape((1,n_steps,1))))"
   ]
  },
  {
   "cell_type": "code",
   "execution_count": 13,
   "id": "9d18175b",
   "metadata": {},
   "outputs": [],
   "source": [
    "real = np.array(real)"
   ]
  },
  {
   "cell_type": "code",
   "execution_count": 14,
   "id": "95b7dcbb",
   "metadata": {},
   "outputs": [],
   "source": [
    "pred = np.round(np.vstack(pred).reshape(-1),0)"
   ]
  },
  {
   "cell_type": "markdown",
   "id": "1e913196",
   "metadata": {},
   "source": [
    "## Computing RMSE"
   ]
  },
  {
   "cell_type": "code",
   "execution_count": 15,
   "id": "0c97c3c7",
   "metadata": {},
   "outputs": [
    {
     "data": {
      "text/plain": [
       "208.24012817032204"
      ]
     },
     "execution_count": 15,
     "metadata": {},
     "output_type": "execute_result"
    }
   ],
   "source": [
    "np.sqrt(np.mean((real-pred)**2))"
   ]
  },
  {
   "cell_type": "code",
   "execution_count": 16,
   "id": "05352dfa",
   "metadata": {},
   "outputs": [
    {
     "data": {
      "text/plain": [
       "array([3.000e+00, 1.200e+01, 6.000e+00, 1.800e+01, 1.000e+00, 1.000e+00,\n",
       "       7.000e+00, 6.000e+00, 2.000e+00, 3.100e+01, 3.300e+01, 1.230e+02,\n",
       "       2.253e+03, 2.000e+00, 8.000e+00, 6.000e+00, 5.000e+00, 8.000e+00,\n",
       "       5.000e+00, 3.000e+00, 1.000e+00, 9.000e+00, 4.000e+00, 6.000e+00,\n",
       "       6.000e+00, 3.000e+00, 1.400e+01, 2.000e+00, 1.000e+01, 8.000e+00,\n",
       "       2.000e+00, 3.000e+00, 8.000e+00, 9.000e+00, 1.800e+01, 7.000e+00,\n",
       "       1.000e+00, 5.000e+00, 3.000e+00, 1.000e+00, 3.000e+00, 7.000e+00,\n",
       "       1.400e+01, 1.100e+01, 3.000e+00, 8.000e+00, 3.000e+00, 1.000e+00,\n",
       "       3.000e+00, 4.000e+00, 4.000e+00, 2.000e+00, 2.000e+00, 3.000e+00,\n",
       "       8.000e+00, 3.000e+00, 4.000e+00, 3.000e+00, 5.000e+00, 1.000e+00,\n",
       "       9.000e+00, 4.000e+00, 1.000e+00, 2.000e+00, 7.000e+00, 1.400e+01,\n",
       "       3.400e+01, 1.100e+01, 1.000e+00, 6.000e+00, 3.000e+00, 1.300e+01,\n",
       "       2.000e+00, 4.000e+00, 4.000e+00, 6.000e+00, 2.000e+00, 5.000e+00,\n",
       "       2.000e+00, 4.000e+00, 2.000e+00, 1.000e+00, 1.400e+01, 3.000e+00,\n",
       "       1.700e+01, 5.000e+00, 5.000e+00, 1.000e+00, 1.000e+01, 1.500e+01,\n",
       "       2.000e+00, 9.000e+00, 9.000e+00, 5.000e+00, 7.000e+00, 5.000e+00,\n",
       "       2.000e+00, 3.000e+00, 1.000e+00, 5.000e+00, 2.000e+00, 3.000e+00])"
      ]
     },
     "execution_count": 16,
     "metadata": {},
     "output_type": "execute_result"
    }
   ],
   "source": [
    "real"
   ]
  },
  {
   "cell_type": "code",
   "execution_count": 17,
   "id": "599917cd",
   "metadata": {},
   "outputs": [
    {
     "data": {
      "text/plain": [
       "array([  5.,  15.,   6.,  18.,   1.,   6.,   7.,   6.,   3.,  85., 180.,\n",
       "       140., 156.,   4.,   6.,   5.,   2.,  26.,   6.,   5.,   2.,   7.,\n",
       "         6.,   6.,  12.,   4.,  12.,   3.,   8.,   6.,   4.,   4.,   7.,\n",
       "         4.,  20.,   7.,   3.,   6.,   3.,   3.,   4.,   5.,  12.,  15.,\n",
       "         3.,   3.,   5.,   5.,   5.,   8.,   8.,   4.,   3.,   6.,  10.,\n",
       "         4.,   4.,   4.,   3.,   3.,   7.,   7.,   3.,  10.,   5.,  10.,\n",
       "        32.,  12.,   1.,   3.,   5.,   7.,   2.,   4.,   4.,   6.,   3.,\n",
       "         4.,   3.,   6.,   4.,   3.,  10.,   4.,  22.,   3.,   4.,   2.,\n",
       "         7.,  14.,   6.,  10.,   7.,   5.,   6.,   6.,   5.,   3.,   5.,\n",
       "         6.,   2.,   3.], dtype=float32)"
      ]
     },
     "execution_count": 17,
     "metadata": {},
     "output_type": "execute_result"
    }
   ],
   "source": [
    "pred"
   ]
  },
  {
   "cell_type": "code",
   "execution_count": null,
   "id": "acf0632d",
   "metadata": {},
   "outputs": [],
   "source": []
  }
 ],
 "metadata": {
  "kernelspec": {
   "display_name": "Python 3 (ipykernel)",
   "language": "python",
   "name": "python3"
  },
  "language_info": {
   "codemirror_mode": {
    "name": "ipython",
    "version": 3
   },
   "file_extension": ".py",
   "mimetype": "text/x-python",
   "name": "python",
   "nbconvert_exporter": "python",
   "pygments_lexer": "ipython3",
   "version": "3.9.6"
  }
 },
 "nbformat": 4,
 "nbformat_minor": 5
}
